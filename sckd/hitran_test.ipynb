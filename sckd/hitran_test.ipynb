{
 "cells": [
  {
   "cell_type": "code",
   "execution_count": 10,
   "id": "a863b715",
   "metadata": {},
   "outputs": [],
   "source": [
    "import numpy as np\n",
    "import pandas as pd\n",
    "from utils import read_hitran_par"
   ]
  },
  {
   "cell_type": "code",
   "execution_count": 2,
   "id": "57346f5d",
   "metadata": {},
   "outputs": [],
   "source": [
    "df = read_hitran_par('data/hitran_lbl/h2o.par')"
   ]
  },
  {
   "cell_type": "code",
   "execution_count": 3,
   "id": "b226a3b0",
   "metadata": {},
   "outputs": [
    {
     "data": {
      "text/html": [
       "<div>\n",
       "<style scoped>\n",
       "    .dataframe tbody tr th:only-of-type {\n",
       "        vertical-align: middle;\n",
       "    }\n",
       "\n",
       "    .dataframe tbody tr th {\n",
       "        vertical-align: top;\n",
       "    }\n",
       "\n",
       "    .dataframe thead th {\n",
       "        text-align: right;\n",
       "    }\n",
       "</style>\n",
       "<table border=\"1\" class=\"dataframe\">\n",
       "  <thead>\n",
       "    <tr style=\"text-align: right;\">\n",
       "      <th></th>\n",
       "      <th>molec_id</th>\n",
       "      <th>local_iso_id</th>\n",
       "      <th>nu</th>\n",
       "      <th>sw</th>\n",
       "      <th>a</th>\n",
       "      <th>gamma_air</th>\n",
       "      <th>gamma_self</th>\n",
       "      <th>elower</th>\n",
       "      <th>n_air</th>\n",
       "      <th>delta_air</th>\n",
       "      <th>global_upper_quanta</th>\n",
       "      <th>global_lower_quanta</th>\n",
       "      <th>local_upper_quanta</th>\n",
       "      <th>local_lower_quanta</th>\n",
       "      <th>ierr</th>\n",
       "      <th>iref</th>\n",
       "      <th>line_mixing_flag</th>\n",
       "      <th>gp</th>\n",
       "      <th>gpp</th>\n",
       "    </tr>\n",
       "  </thead>\n",
       "  <tbody>\n",
       "    <tr>\n",
       "      <th>0</th>\n",
       "      <td>1</td>\n",
       "      <td>4</td>\n",
       "      <td>0.000726</td>\n",
       "      <td>6.613000e-33</td>\n",
       "      <td>2.711000e-16</td>\n",
       "      <td>0.0695</td>\n",
       "      <td>0.428</td>\n",
       "      <td>402.3295</td>\n",
       "      <td>0.79</td>\n",
       "      <td>0.00024</td>\n",
       "      <td>0 0 0</td>\n",
       "      <td>0 0 0</td>\n",
       "      <td>4  4  0</td>\n",
       "      <td>4  4  1</td>\n",
       "      <td>5322205041</td>\n",
       "      <td>78333</td>\n",
       "      <td>48</td>\n",
       "      <td>54.0</td>\n",
       "      <td>54.0</td>\n",
       "    </tr>\n",
       "    <tr>\n",
       "      <th>1</th>\n",
       "      <td>1</td>\n",
       "      <td>4</td>\n",
       "      <td>0.006684</td>\n",
       "      <td>1.121000e-32</td>\n",
       "      <td>1.915000e-14</td>\n",
       "      <td>0.0605</td>\n",
       "      <td>0.378</td>\n",
       "      <td>818.0067</td>\n",
       "      <td>0.79</td>\n",
       "      <td>0.00035</td>\n",
       "      <td>0 0 0</td>\n",
       "      <td>0 0 0</td>\n",
       "      <td>7  5  2</td>\n",
       "      <td>7  5  3</td>\n",
       "      <td>5622205041</td>\n",
       "      <td>78333</td>\n",
       "      <td>48</td>\n",
       "      <td>90.0</td>\n",
       "      <td>90.0</td>\n",
       "    </tr>\n",
       "    <tr>\n",
       "      <th>2</th>\n",
       "      <td>1</td>\n",
       "      <td>4</td>\n",
       "      <td>0.016229</td>\n",
       "      <td>2.813000e-31</td>\n",
       "      <td>3.081000e-13</td>\n",
       "      <td>0.0722</td>\n",
       "      <td>0.410</td>\n",
       "      <td>480.2426</td>\n",
       "      <td>0.79</td>\n",
       "      <td>0.00088</td>\n",
       "      <td>0 0 0</td>\n",
       "      <td>0 0 0</td>\n",
       "      <td>5  4  1</td>\n",
       "      <td>5  4  2</td>\n",
       "      <td>5622205041</td>\n",
       "      <td>78333</td>\n",
       "      <td>48</td>\n",
       "      <td>66.0</td>\n",
       "      <td>66.0</td>\n",
       "    </tr>\n",
       "    <tr>\n",
       "      <th>3</th>\n",
       "      <td>1</td>\n",
       "      <td>4</td>\n",
       "      <td>0.027507</td>\n",
       "      <td>2.450000e-30</td>\n",
       "      <td>2.149000e-12</td>\n",
       "      <td>0.0878</td>\n",
       "      <td>0.448</td>\n",
       "      <td>233.0238</td>\n",
       "      <td>0.79</td>\n",
       "      <td>0.00047</td>\n",
       "      <td>0 0 0</td>\n",
       "      <td>0 0 0</td>\n",
       "      <td>3  3  0</td>\n",
       "      <td>3  3  1</td>\n",
       "      <td>5622205041</td>\n",
       "      <td>78333</td>\n",
       "      <td>48</td>\n",
       "      <td>42.0</td>\n",
       "      <td>42.0</td>\n",
       "    </tr>\n",
       "    <tr>\n",
       "      <th>4</th>\n",
       "      <td>1</td>\n",
       "      <td>4</td>\n",
       "      <td>0.029735</td>\n",
       "      <td>9.146000e-32</td>\n",
       "      <td>1.123000e-12</td>\n",
       "      <td>0.0631</td>\n",
       "      <td>0.364</td>\n",
       "      <td>942.5323</td>\n",
       "      <td>0.79</td>\n",
       "      <td>0.00116</td>\n",
       "      <td>0 0 0</td>\n",
       "      <td>0 0 0</td>\n",
       "      <td>8  5  3</td>\n",
       "      <td>8  5  4</td>\n",
       "      <td>5622205041</td>\n",
       "      <td>78333</td>\n",
       "      <td>48</td>\n",
       "      <td>102.0</td>\n",
       "      <td>102.0</td>\n",
       "    </tr>\n",
       "  </tbody>\n",
       "</table>\n",
       "</div>"
      ],
      "text/plain": [
       "   molec_id  local_iso_id        nu            sw             a  gamma_air  \\\n",
       "0         1             4  0.000726  6.613000e-33  2.711000e-16     0.0695   \n",
       "1         1             4  0.006684  1.121000e-32  1.915000e-14     0.0605   \n",
       "2         1             4  0.016229  2.813000e-31  3.081000e-13     0.0722   \n",
       "3         1             4  0.027507  2.450000e-30  2.149000e-12     0.0878   \n",
       "4         1             4  0.029735  9.146000e-32  1.123000e-12     0.0631   \n",
       "\n",
       "   gamma_self    elower  n_air  delta_air global_upper_quanta  \\\n",
       "0       0.428  402.3295   0.79    0.00024               0 0 0   \n",
       "1       0.378  818.0067   0.79    0.00035               0 0 0   \n",
       "2       0.410  480.2426   0.79    0.00088               0 0 0   \n",
       "3       0.448  233.0238   0.79    0.00047               0 0 0   \n",
       "4       0.364  942.5323   0.79    0.00116               0 0 0   \n",
       "\n",
       "  global_lower_quanta local_upper_quanta local_lower_quanta        ierr  \\\n",
       "0               0 0 0            4  4  0            4  4  1  5322205041   \n",
       "1               0 0 0            7  5  2            7  5  3  5622205041   \n",
       "2               0 0 0            5  4  1            5  4  2  5622205041   \n",
       "3               0 0 0            3  3  0            3  3  1  5622205041   \n",
       "4               0 0 0            8  5  3            8  5  4  5622205041   \n",
       "\n",
       "    iref line_mixing_flag     gp    gpp  \n",
       "0  78333               48   54.0   54.0  \n",
       "1  78333               48   90.0   90.0  \n",
       "2  78333               48   66.0   66.0  \n",
       "3  78333               48   42.0   42.0  \n",
       "4  78333               48  102.0  102.0  "
      ]
     },
     "execution_count": 3,
     "metadata": {},
     "output_type": "execute_result"
    }
   ],
   "source": [
    "df.head()"
   ]
  },
  {
   "cell_type": "code",
   "execution_count": 8,
   "id": "c7736438",
   "metadata": {},
   "outputs": [],
   "source": [
    "global_dict ={(1, 1): 1,\n",
    "              (1, 2): 2,\n",
    "              (1, 3): 3,\n",
    "              (1, 4): 4,\n",
    "              (1, 5): 5,\n",
    "              (1, 6): 6,\n",
    "              (1, 7): 129,\n",
    "             }"
   ]
  },
  {
   "cell_type": "code",
   "execution_count": 112,
   "id": "997b3550",
   "metadata": {},
   "outputs": [
    {
     "data": {
      "text/plain": [
       "1.4387768775039338"
      ]
     },
     "execution_count": 112,
     "metadata": {},
     "output_type": "execute_result"
    }
   ],
   "source": [
    "h = 6.62607015e-27 # erg s\n",
    "c = 2.99792458e10 # cm s−1\n",
    "k = 1.380649e-16 # erg K−1\n",
    "c2 = h*c/k # cm K\n",
    "NA = 6.02214129e23 # mol−1\n",
    "c2"
   ]
  },
  {
   "cell_type": "code",
   "execution_count": 113,
   "id": "397ddc6c",
   "metadata": {},
   "outputs": [
    {
     "data": {
      "text/plain": [
       "molec_id                          1\n",
       "local_iso_id                      1\n",
       "nu                     24198.212409\n",
       "sw                              0.0\n",
       "a                               0.0\n",
       "gamma_air                    0.0941\n",
       "gamma_self                    0.456\n",
       "elower                      79.4964\n",
       "n_air                          0.77\n",
       "delta_air                 -0.017184\n",
       "global_upper_quanta          -2-2-2\n",
       "global_lower_quanta           0 0 0\n",
       "local_upper_quanta          3  3  1\n",
       "local_lower_quanta          2  1  2\n",
       "ierr                     1422326274\n",
       "iref                         917122\n",
       "line_mixing_flag                 50\n",
       "gp                             21.0\n",
       "gpp                            15.0\n",
       "Name: 386675, dtype: object"
      ]
     },
     "execution_count": 113,
     "metadata": {},
     "output_type": "execute_result"
    }
   ],
   "source": [
    "df_select = df.iloc[386675, :]\n",
    "df_select"
   ]
  },
  {
   "cell_type": "code",
   "execution_count": 114,
   "id": "ba77a0d6",
   "metadata": {},
   "outputs": [],
   "source": [
    "global_id = global_dict[df_select.molec_id, df_select.local_iso_id]"
   ]
  },
  {
   "cell_type": "code",
   "execution_count": 115,
   "id": "39f194a1",
   "metadata": {},
   "outputs": [],
   "source": [
    "qT_global_id = pd.read_csv(f'data/qt/q{global_id}.txt', header=None, sep='\\s+').astype(float)\n",
    "# pd.to_numeric(qT_global_id)\n",
    "qT_global_id.columns=['T', 'qT']"
   ]
  },
  {
   "cell_type": "code",
   "execution_count": 116,
   "id": "a3e54ca6",
   "metadata": {},
   "outputs": [
    {
     "data": {
      "text/html": [
       "<div>\n",
       "<style scoped>\n",
       "    .dataframe tbody tr th:only-of-type {\n",
       "        vertical-align: middle;\n",
       "    }\n",
       "\n",
       "    .dataframe tbody tr th {\n",
       "        vertical-align: top;\n",
       "    }\n",
       "\n",
       "    .dataframe thead th {\n",
       "        text-align: right;\n",
       "    }\n",
       "</style>\n",
       "<table border=\"1\" class=\"dataframe\">\n",
       "  <thead>\n",
       "    <tr style=\"text-align: right;\">\n",
       "      <th></th>\n",
       "      <th>T</th>\n",
       "      <th>qT</th>\n",
       "    </tr>\n",
       "  </thead>\n",
       "  <tbody>\n",
       "    <tr>\n",
       "      <th>0</th>\n",
       "      <td>1.0</td>\n",
       "      <td>1.00000</td>\n",
       "    </tr>\n",
       "    <tr>\n",
       "      <th>1</th>\n",
       "      <td>2.0</td>\n",
       "      <td>1.00000</td>\n",
       "    </tr>\n",
       "    <tr>\n",
       "      <th>2</th>\n",
       "      <td>3.0</td>\n",
       "      <td>1.00010</td>\n",
       "    </tr>\n",
       "    <tr>\n",
       "      <th>3</th>\n",
       "      <td>4.0</td>\n",
       "      <td>1.00173</td>\n",
       "    </tr>\n",
       "    <tr>\n",
       "      <th>4</th>\n",
       "      <td>5.0</td>\n",
       "      <td>1.00968</td>\n",
       "    </tr>\n",
       "    <tr>\n",
       "      <th>...</th>\n",
       "      <td>...</td>\n",
       "      <td>...</td>\n",
       "    </tr>\n",
       "    <tr>\n",
       "      <th>4995</th>\n",
       "      <td>4996.0</td>\n",
       "      <td>83927.46539</td>\n",
       "    </tr>\n",
       "    <tr>\n",
       "      <th>4996</th>\n",
       "      <td>4997.0</td>\n",
       "      <td>83985.19166</td>\n",
       "    </tr>\n",
       "    <tr>\n",
       "      <th>4997</th>\n",
       "      <td>4998.0</td>\n",
       "      <td>84042.94668</td>\n",
       "    </tr>\n",
       "    <tr>\n",
       "      <th>4998</th>\n",
       "      <td>4999.0</td>\n",
       "      <td>84100.73048</td>\n",
       "    </tr>\n",
       "    <tr>\n",
       "      <th>4999</th>\n",
       "      <td>5000.0</td>\n",
       "      <td>84158.54304</td>\n",
       "    </tr>\n",
       "  </tbody>\n",
       "</table>\n",
       "<p>5000 rows × 2 columns</p>\n",
       "</div>"
      ],
      "text/plain": [
       "           T           qT\n",
       "0        1.0      1.00000\n",
       "1        2.0      1.00000\n",
       "2        3.0      1.00010\n",
       "3        4.0      1.00173\n",
       "4        5.0      1.00968\n",
       "...      ...          ...\n",
       "4995  4996.0  83927.46539\n",
       "4996  4997.0  83985.19166\n",
       "4997  4998.0  84042.94668\n",
       "4998  4999.0  84100.73048\n",
       "4999  5000.0  84158.54304\n",
       "\n",
       "[5000 rows x 2 columns]"
      ]
     },
     "execution_count": 116,
     "metadata": {},
     "output_type": "execute_result"
    }
   ],
   "source": [
    "qT_global_id"
   ]
  },
  {
   "cell_type": "code",
   "execution_count": 117,
   "id": "8c21faec",
   "metadata": {},
   "outputs": [],
   "source": [
    "qT_ref = qT_global_id[qT_global_id['T']==296]['qT'].values[0]\n"
   ]
  },
  {
   "cell_type": "code",
   "execution_count": 118,
   "id": "ea674b4f",
   "metadata": {},
   "outputs": [],
   "source": [
    "T_ = 296\n",
    "sw_calc = df_select.a/(8*np.pi*c*df_select.nu**2)*df_select.gp*np.exp(-c2*df_select.elower/T_)*(1-np.exp(-c2*df_select.nu/T_))/qT_ref"
   ]
  },
  {
   "cell_type": "code",
   "execution_count": 119,
   "id": "d8217e97",
   "metadata": {},
   "outputs": [
    {
     "data": {
      "text/plain": [
       "4.5770000000000004e-30"
      ]
     },
     "execution_count": 119,
     "metadata": {},
     "output_type": "execute_result"
    }
   ],
   "source": [
    "df_select.sw"
   ]
  },
  {
   "cell_type": "code",
   "execution_count": 120,
   "id": "a105e18b",
   "metadata": {},
   "outputs": [
    {
     "data": {
      "text/plain": [
       "4.5765436791504784e-30"
      ]
     },
     "execution_count": 120,
     "metadata": {},
     "output_type": "execute_result"
    }
   ],
   "source": [
    "sw_calc * 0.997317"
   ]
  },
  {
   "cell_type": "code",
   "execution_count": 101,
   "id": "fc88775d",
   "metadata": {},
   "outputs": [
    {
     "data": {
      "text/plain": [
       "array([1.000e+00, 2.000e+00, 3.000e+00, ..., 4.998e+03, 4.999e+03,\n",
       "       5.000e+03])"
      ]
     },
     "execution_count": 101,
     "metadata": {},
     "output_type": "execute_result"
    }
   ],
   "source": [
    "qT_global_id['T'].values"
   ]
  },
  {
   "cell_type": "code",
   "execution_count": 121,
   "id": "b0611f21",
   "metadata": {},
   "outputs": [],
   "source": [
    "T_ = 273\n",
    "p_ = 0.98\n",
    "x_ = 0.0004\n",
    "p_self = p_ * x_\n",
    "T_ref = 296\n",
    "p_ref = 1\n",
    "p_ref_self = p_ref * x_\n",
    "qT_ = np.interp(T_, qT_global_id['T'].values, qT_global_id['qT'].values)"
   ]
  },
  {
   "cell_type": "code",
   "execution_count": 122,
   "id": "b6e93107",
   "metadata": {},
   "outputs": [],
   "source": [
    "sw_T_ = df_select.sw * (qT_ref/qT_) * np.exp(-c2*df_select.elower/T_)/np.exp(-c2*df_select.elower/T_ref) * (1-np.exp(-c2*df_select.nu/T_)) / (1-np.exp(-c2*df_select.nu/T_ref)) "
   ]
  },
  {
   "cell_type": "code",
   "execution_count": 123,
   "id": "047a30a0",
   "metadata": {},
   "outputs": [],
   "source": [
    "alpha_D_T_ref = df_select.nu/c*np.sqrt(2*NA*k*T_ref*np.log(2)/19.016740)\n",
    "gamma_p_T_ref = (T_ref/T_ref)**df_select.n_air * (df_select.gamma_air*(p_ref-p_ref_self)+df_select.gamma_self*p_ref_self)"
   ]
  },
  {
   "cell_type": "code",
   "execution_count": 124,
   "id": "a34228ad",
   "metadata": {},
   "outputs": [],
   "source": [
    "alpha_D_T_ = df_select.nu/c*np.sqrt(2*NA*k*T_*np.log(2)/19.016740)\n",
    "gamma_p_T_ = (T_ref/T_)**df_select.n_air * (df_select.gamma_air*(p_-p_self)+df_select.gamma_self*p_self)"
   ]
  },
  {
   "cell_type": "code",
   "execution_count": 125,
   "id": "671b07d5",
   "metadata": {},
   "outputs": [],
   "source": [
    "nu_shift = df_select.nu + df_select.delta_air * p_"
   ]
  },
  {
   "cell_type": "code",
   "execution_count": 126,
   "id": "babda37d",
   "metadata": {},
   "outputs": [
    {
     "data": {
      "text/plain": [
       "4.9991922298036596e-30"
      ]
     },
     "execution_count": 126,
     "metadata": {},
     "output_type": "execute_result"
    }
   ],
   "source": [
    "sw_T_"
   ]
  },
  {
   "cell_type": "code",
   "execution_count": 127,
   "id": "4759bb5a",
   "metadata": {},
   "outputs": [],
   "source": [
    "from scipy.special import wofz\n",
    "\n",
    "def voigt_profile(x, amplitude=1.0, center=0.0, sigma=1.0, gamma=1.0):\n",
    "    \"\"\"\n",
    "    Compute the Voigt line shape at points x.\n",
    "\n",
    "    Parameters\n",
    "    ----------\n",
    "    x : array_like\n",
    "        Points at which to evaluate the Voigt profile.\n",
    "    amplitude : float, optional\n",
    "        Peak amplitude of the line (default: 1.0).\n",
    "    center : float, optional\n",
    "        Center position of the line (default: 0.0).\n",
    "    sigma : float, optional\n",
    "        Standard deviation of the Gaussian component (default: 1.0).\n",
    "    gamma : float, optional\n",
    "        Half-width at half-maximum (HWHM) of the Lorentzian component (default: 1.0).\n",
    "\n",
    "    Returns\n",
    "    -------\n",
    "    y : ndarray\n",
    "        Voigt profile evaluated at x.\n",
    "    \"\"\"\n",
    "    # shift x by the line center\n",
    "    x_shifted = (x - center)\n",
    "\n",
    "    # define the complex argument for the Faddeeva function\n",
    "    z = (x_shifted + 1j * gamma) / (sigma * np.sqrt(2))\n",
    "\n",
    "    # real part of wofz gives the Voigt profile (unnormalized)\n",
    "    norm = sigma * np.sqrt(2 * np.pi)\n",
    "    profile = np.real(wofz(z)) / norm\n",
    "\n",
    "    return amplitude * profile"
   ]
  },
  {
   "cell_type": "code",
   "execution_count": 148,
   "id": "a5d5b6ea",
   "metadata": {},
   "outputs": [],
   "source": [
    "def gaussian_profile(x, amplitude=1.0, center=0.0, sigma=1.0, ):\n",
    "    \"\"\"\n",
    "    Compute the Voigt line shape at points x.\n",
    "\n",
    "    Parameters\n",
    "    ----------\n",
    "    x : array_like\n",
    "        Points at which to evaluate the Voigt profile.\n",
    "    amplitude : float, optional\n",
    "        Peak amplitude of the line (default: 1.0).\n",
    "    center : float, optional\n",
    "        Center position of the line (default: 0.0).\n",
    "    sigma : float, optional\n",
    "        Standard deviation of the Gaussian component (default: 1.0).\n",
    "\n",
    "    Returns\n",
    "    -------\n",
    "    y : ndarray\n",
    "        Voigt profile evaluated at x.\n",
    "    \"\"\"\n",
    "    # shift x by the line center\n",
    "    x_shifted = (x - center)\n",
    "\n",
    "    profile = np.sqrt(np.log(2)/(np.pi*sigma**2)) * np.exp(-(x_shifted**2)*(np.log(2)/(sigma**2)))\n",
    "#     profile = np.sqrt(np.log(2)/(np.pi*sigma**2) * np.exp(-(x_shifted**2)*(np.log(2)/(sigma**2))))\n",
    "\n",
    "    return amplitude * profile\n",
    "                                                           \n",
    "                                                        \n",
    "def lorenz_profile(x, amplitude=1.0, center=0.0, gamma=1.0):\n",
    "    \"\"\"\n",
    "    Compute the Voigt line shape at points x.\n",
    "\n",
    "    Parameters\n",
    "    ----------\n",
    "    x : array_like\n",
    "        Points at which to evaluate the Voigt profile.\n",
    "    amplitude : float, optional\n",
    "        Peak amplitude of the line (default: 1.0).\n",
    "    center : float, optional\n",
    "        Center position of the line (default: 0.0).\n",
    "    sigma : float, optional\n",
    "        Standard deviation of the Gaussian component (default: 1.0).\n",
    "    gamma : float, optional\n",
    "        Half-width at half-maximum (HWHM) of the Lorentzian component (default: 1.0).\n",
    "\n",
    "    Returns\n",
    "    -------\n",
    "    y : ndarray\n",
    "        Voigt profile evaluated at x.\n",
    "    \"\"\"\n",
    "    # shift x by the line center\n",
    "    x_shifted = (x - center)\n",
    "\n",
    "#     profile = 1/np.pi*gamma/(gamma**2+x_shifted**2)\n",
    "    profile = gamma/(gamma**2/4+x_shifted**2)\n",
    "\n",
    "    return amplitude * profile "
   ]
  },
  {
   "cell_type": "code",
   "execution_count": null,
   "id": "1b3eb66f",
   "metadata": {},
   "outputs": [],
   "source": []
  },
  {
   "cell_type": "code",
   "execution_count": 128,
   "id": "e8742864",
   "metadata": {},
   "outputs": [
    {
     "data": {
      "text/plain": [
       "24198.212409"
      ]
     },
     "execution_count": 128,
     "metadata": {},
     "output_type": "execute_result"
    }
   ],
   "source": [
    "df_select.nu"
   ]
  },
  {
   "cell_type": "code",
   "execution_count": 136,
   "id": "25878161",
   "metadata": {},
   "outputs": [
    {
     "data": {
      "text/plain": [
       "0.03283376691188351"
      ]
     },
     "execution_count": 136,
     "metadata": {},
     "output_type": "execute_result"
    }
   ],
   "source": [
    "alpha_D_T_"
   ]
  },
  {
   "cell_type": "code",
   "execution_count": 137,
   "id": "51d67c2f",
   "metadata": {},
   "outputs": [
    {
     "data": {
      "text/plain": [
       "0.09829528083173272"
      ]
     },
     "execution_count": 137,
     "metadata": {},
     "output_type": "execute_result"
    }
   ],
   "source": [
    "gamma_p_T_"
   ]
  },
  {
   "cell_type": "code",
   "execution_count": 149,
   "id": "bae9f23b",
   "metadata": {},
   "outputs": [
    {
     "data": {
      "image/png": "[encoded data removed]",
      "text/plain": [
       "<Figure size 640x480 with 1 Axes>"
      ]
     },
     "metadata": {},
     "output_type": "display_data"
    }
   ],
   "source": [
    "# create an x-axis\n",
    "x = np.linspace(24197, 24199, 10001)\n",
    "\n",
    "# two example Voigt profiles\n",
    "y1 = voigt_profile(x, amplitude=1, center=nu_shift, sigma=alpha_D_T_, gamma=gamma_p_T_)\n",
    "y2 = voigt_profile(x, amplitude=1, center=df_select.nu, sigma=alpha_D_T_ref, gamma=gamma_p_T_ref)\n",
    "\n",
    "\n",
    "y3 = gaussian_profile(x, amplitude=1, center=df_select.nu, sigma=alpha_D_T_)\n",
    "y4 = lorenz_profile(x, amplitude=1, center=nu_shift, gamma=gamma_p_T_)\n",
    "plt.figure()\n",
    "plt.plot(x, y1, label='273K')\n",
    "# plt.plot(x, y2, label='ref 296K')\n",
    "plt.plot(x, y3, label='Gaussian 273K')\n",
    "plt.plot(x, y4, label='Lorenze 273K')\n",
    "plt.xlabel('x')\n",
    "plt.ylabel('Voigt profile')\n",
    "plt.legend()\n",
    "plt.title('Voigt Line Shapes')\n",
    "plt.show()"
   ]
  },
  {
   "cell_type": "code",
   "execution_count": 72,
   "id": "5000c0c2",
   "metadata": {},
   "outputs": [
    {
     "data": {
      "image/png": "[encoded data removed]",
      "text/plain": [
       "<Figure size 640x480 with 1 Axes>"
      ]
     },
     "metadata": {},
     "output_type": "display_data"
    }
   ],
   "source": [
    "import matplotlib.pyplot as plt\n",
    "\n",
    "# create an x-axis\n",
    "x = np.linspace(-10, 10, 1001)\n",
    "\n",
    "# two example Voigt profiles\n",
    "y1 = voigt_profile(x, amplitude=1, center=0, sigma=1, gamma=0.5)\n",
    "y2 = voigt_profile(x, amplitude=1, center=0, sigma=0.5, gamma=2)\n",
    "\n",
    "plt.figure()\n",
    "plt.plot(x, y1, label=r'$\\sigma=1,\\ \\gamma=0.5$')\n",
    "plt.plot(x, y2, label=r'$\\sigma=0.5,\\ \\gamma=2$')\n",
    "plt.xlabel('x')\n",
    "plt.ylabel('Voigt profile')\n",
    "plt.legend()\n",
    "plt.title('Voigt Line Shapes')\n",
    "plt.show()"
   ]
  },
  {
   "cell_type": "code",
   "execution_count": 79,
   "id": "ca86faab",
   "metadata": {},
   "outputs": [
    {
     "data": {
      "image/png": "[encoded data removed]",
      "text/plain": [
       "<Figure size 640x480 with 1 Axes>"
      ]
     },
     "metadata": {},
     "output_type": "display_data"
    }
   ],
   "source": [
    "# create an x-axis\n",
    "x = np.linspace(-10, 10, 1001)\n",
    "\n",
    "# two example Voigt profiles\n",
    "y1 = voigt_profile(x, amplitude=1, center=0, sigma=1e-15, gamma=0.5)\n",
    "y2 = voigt_profile(x, amplitude=1, center=0, sigma=0.5, gamma=0)\n",
    "\n",
    "plt.figure()\n",
    "plt.plot(x, y1, label=r'$\\sigma=1,\\ \\gamma=0.5$')\n",
    "plt.plot(x, y2, label=r'$\\sigma=0.5,\\ \\gamma=2$')\n",
    "plt.xlabel('x')\n",
    "plt.ylabel('Voigt profile')\n",
    "plt.legend()\n",
    "plt.title('Voigt Line Shapes')\n",
    "plt.show()"
   ]
  },
  {
   "cell_type": "code",
   "execution_count": null,
   "id": "5984fc65",
   "metadata": {},
   "outputs": [],
   "source": []
  }
 ],
 "metadata": {
  "kernelspec": {
   "display_name": "Python [conda env:er3t_env] *",
   "language": "python",
   "name": "conda-env-er3t_env-py"
  },
  "language_info": {
   "codemirror_mode": {
    "name": "ipython",
    "version": 3
   },
   "file_extension": ".py",
   "mimetype": "text/x-python",
   "name": "python",
   "nbconvert_exporter": "python",
   "pygments_lexer": "ipython3",
   "version": "3.8.13"
  }
 },
 "nbformat": 4,
 "nbformat_minor": 5
}
